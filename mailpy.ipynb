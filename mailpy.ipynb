{
 "cells": [
  {
   "cell_type": "code",
   "execution_count": 1,
   "source": [
    "# pip install python-decouple\r\n",
    "# "
   ],
   "outputs": [
    {
     "output_type": "stream",
     "name": "stdout",
     "text": [
      "Collecting python-decouple\n",
      "  Downloading python-decouple-3.5.tar.gz (11 kB)\n",
      "Building wheels for collected packages: python-decouple\n",
      "  Building wheel for python-decouple (setup.py): started\n",
      "  Building wheel for python-decouple (setup.py): finished with status 'done'\n",
      "  Created wheel for python-decouple: filename=python_decouple-3.5-py3-none-any.whl size=9587 sha256=d86ac7c4add7a2cde5d0a271c7bb0cfa32797d90ef07a07c33596e1201d43f97\n",
      "  Stored in directory: c:\\users\\luis\\appdata\\local\\pip\\cache\\wheels\\d1\\50\\e3\\bef0ef631fc25cc3bf0af07d002dba3641c3731b7f17de632b\n",
      "Successfully built python-decouple\n",
      "Installing collected packages: python-decouple\n",
      "Successfully installed python-decouple-3.5\n",
      "Note: you may need to restart the kernel to use updated packages.\n"
     ]
    }
   ],
   "metadata": {}
  },
  {
   "cell_type": "code",
   "execution_count": 6,
   "source": [
    "# import necessary packages\r\n",
    " \r\n",
    "from email.mime.multipart import MIMEMultipart\r\n",
    "from email.mime.text import MIMEText\r\n",
    "import smtplib\r\n",
    " \r\n",
    "def sendMail(option, data, process):\r\n",
    "\r\n",
    "    # create message object instance\r\n",
    "    msg = MIMEMultipart()\r\n",
    "\r\n",
    "    if option == 1:\r\n",
    "        message = f'Data download: \\n\\n {data}'\r\n",
    "        subject = f'Process successful 😎 {process}'\r\n",
    "    else:\r\n",
    "        message = f'Error: \\n\\n {data}'\r\n",
    "        subject = f'Process error 💩 {process}'\r\n",
    "\r\n",
    "    # setup the parameters of the message\r\n",
    "    password = \"\" # yaml\r\n",
    "    msg['From'] = \"\" #yaml\r\n",
    "    msg['To'] = \"\" #yaml\r\n",
    "    msg['Subject'] = subject\r\n",
    "\r\n",
    "    # add in the message body\r\n",
    "    msg.attach(MIMEText(message, 'plain'))\r\n",
    "\r\n",
    "    #create server\r\n",
    "    server = smtplib.SMTP('smtp.gmail.com: 587')\r\n",
    "\r\n",
    "    server.starttls()\r\n",
    "\r\n",
    "    # Login Credentials for sending the mail\r\n",
    "    server.login(msg['From'], password)\r\n",
    "\r\n",
    "    # send the message via the server.\r\n",
    "    server.sendmail(msg['From'], msg['To'], msg.as_string())\r\n",
    "\r\n",
    "    server.quit()"
   ],
   "outputs": [],
   "metadata": {}
  },
  {
   "cell_type": "code",
   "execution_count": 11,
   "source": [
    "def run():\n",
    "    process_name = 'Test process'\n",
    "    \n",
    "    try:\n",
    "        for i in 12:\n",
    "            i\n",
    "        \n",
    "        print(f'Envio mail de fin sin errores, registros insertados {data}') \n",
    "        sendMail(1, 'Completo', process_name)\n",
    "\n",
    "    except Exception as e:\n",
    "        print(f'Envio mail con error {e}')\n",
    "        sendMail(0, e, process_name)"
   ],
   "outputs": [],
   "metadata": {}
  },
  {
   "cell_type": "code",
   "execution_count": 13,
   "source": [
    "run()"
   ],
   "outputs": [
    {
     "output_type": "stream",
     "name": "stdout",
     "text": [
      "Envio mail con error 'int' object is not iterable\n"
     ]
    }
   ],
   "metadata": {}
  },
  {
   "cell_type": "code",
   "execution_count": null,
   "source": [],
   "outputs": [],
   "metadata": {}
  }
 ],
 "metadata": {
  "kernelspec": {
   "display_name": "Python 3",
   "language": "python",
   "name": "python3"
  },
  "language_info": {
   "codemirror_mode": {
    "name": "ipython",
    "version": 3
   },
   "file_extension": ".py",
   "mimetype": "text/x-python",
   "name": "python",
   "nbconvert_exporter": "python",
   "pygments_lexer": "ipython3",
   "version": "3.8.8"
  }
 },
 "nbformat": 4,
 "nbformat_minor": 5
}